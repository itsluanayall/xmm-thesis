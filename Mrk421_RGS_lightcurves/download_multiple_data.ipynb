{
 "cells": [
  {
   "cell_type": "code",
   "execution_count": 1,
   "metadata": {},
   "outputs": [],
   "source": [
    "import requests\n",
    "import pandas as pd\n",
    "import os\n",
    "import tarfile\n",
    "import logging\n",
    "import shutil\n",
    "logging.basicConfig(level=logging.INFO)\n",
    "\n",
    "DOWNLOAD_ODFS = True   #if you need to download the odfs, set to 'True'"
   ]
  },
  {
   "cell_type": "markdown",
   "metadata": {},
   "source": [
    "Read the csv file downloaded from the XSA, in which all the Markarian421 ObsId are listed."
   ]
  },
  {
   "cell_type": "code",
   "execution_count": 2,
   "metadata": {},
   "outputs": [],
   "source": [
    "file_csv = pd.read_csv('NXSA-Results-1598860175088.csv')   #must be modified by user\n",
    "ids = file_csv['OBSERVATION.OBSERVATION_ID']"
   ]
  },
  {
   "cell_type": "markdown",
   "metadata": {},
   "source": [
    "Define a download function with python's request module. "
   ]
  },
  {
   "cell_type": "code",
   "execution_count": 3,
   "metadata": {},
   "outputs": [],
   "source": [
    "def download(url, file_name):\n",
    "    with open(file_name, \"wb\") as file:\n",
    "        # get request\n",
    "        response = requests.get(url)\n",
    "        # write to file\n",
    "        file.write(response.content)"
   ]
  },
  {
   "cell_type": "markdown",
   "metadata": {},
   "source": [
    "Define a function that creates the structure for all the folders containing the data."
   ]
  },
  {
   "cell_type": "code",
   "execution_count": 4,
   "metadata": {},
   "outputs": [],
   "source": [
    "def make_dir_structure(ObsId):\n",
    "    if not os.path.exists(ObsId):\n",
    "        logging.info(f'Creating the directory structure for the data {ObsId}.')\n",
    "        \n",
    "        #make the ObsId main folder\n",
    "        os.mkdir(ObsId)\n",
    "        \n",
    "        #make the subfolders that will go in the ObsId folder\n",
    "        subfolders = ['rgs', 'odf' ]\n",
    "        for folder in subfolders:\n",
    "            os.mkdir(os.path.join(ObsId, folder))\n",
    "        logging.info('Structure completed!')\n",
    "        \n",
    "    else:\n",
    "        logging.info(f'Folder structure for {ObsId} already OK.')\n",
    "        "
   ]
  },
  {
   "cell_type": "markdown",
   "metadata": {},
   "source": [
    "Define an unpacking function to extract the ODF file in the tar.gz format."
   ]
  },
  {
   "cell_type": "code",
   "execution_count": 5,
   "metadata": {},
   "outputs": [],
   "source": [
    "def unpack(tar_name, odf_directory):\n",
    "    if not os.path.exists(odf_directory):\n",
    "        os.mkdir(odf_directory)\n",
    "        \n",
    "    #Extract tar.gz containing the ODF   \n",
    "    try:\n",
    "        with tarfile.open(tar_name, \"r:gz\") as tar:\n",
    "            tar.extractall(path=odf_directory)\n",
    "\n",
    "        #Extract the additional tar files inside the previous tar.gz\n",
    "        for file in os.listdir(odf_directory):\n",
    "            if file.endswith('.TAR'):\n",
    "                with tarfile.open(os.path.join(odf_directory,file), \"r\") as tar:\n",
    "                    tar.extractall(path=odf_directory)\n",
    "        logging.info(f'All ODFs for {tar_name} have been extracted!')\n",
    "        \n",
    "    except Exception as e:\n",
    "        logging.error(f'An error has occurred with tar {tar_name}.')\n",
    "        dir_name = tar_name.split('.')[0]\n",
    "        shutil.rmtree(dir_name) #removes the observation that \n",
    "        logging.debug(str(e))"
   ]
  },
  {
   "cell_type": "markdown",
   "metadata": {},
   "source": [
    "Generate the URLs to download the ODF for each observation. Notice that the ObsId must be 10 characters in the URL, so if it is less, we add zeros to the ID. "
   ]
  },
  {
   "cell_type": "code",
   "execution_count": 9,
   "metadata": {},
   "outputs": [
    {
     "name": "stderr",
     "output_type": "stream",
     "text": [
      "INFO:root:Creating the directory structure for the data 0080940101.\n",
      "INFO:root:Structure completed!\n",
      "INFO:root:All ODFs for 0080940101.tar.gz have been extracted!\n",
      "INFO:root:Creating the directory structure for the data 0080940301.\n",
      "INFO:root:Structure completed!\n",
      "INFO:root:All ODFs for 0080940301.tar.gz have been extracted!\n",
      "INFO:root:Creating the directory structure for the data 0080940401.\n",
      "INFO:root:Structure completed!\n",
      "INFO:root:All ODFs for 0080940401.tar.gz have been extracted!\n",
      "INFO:root:Creating the directory structure for the data 0080940501.\n",
      "INFO:root:Structure completed!\n",
      "INFO:root:All ODFs for 0080940501.tar.gz have been extracted!\n",
      "INFO:root:Creating the directory structure for the data 0124930101.\n",
      "INFO:root:Structure completed!\n",
      "INFO:root:All ODFs for 0124930101.tar.gz have been extracted!\n",
      "INFO:root:Creating the directory structure for the data 0124930201.\n",
      "INFO:root:Structure completed!\n",
      "INFO:root:All ODFs for 0124930201.tar.gz have been extracted!\n",
      "INFO:root:Creating the directory structure for the data 0124930301.\n",
      "INFO:root:Structure completed!\n",
      "INFO:root:All ODFs for 0124930301.tar.gz have been extracted!\n",
      "INFO:root:Creating the directory structure for the data 0124930501.\n",
      "INFO:root:Structure completed!\n",
      "INFO:root:All ODFs for 0124930501.tar.gz have been extracted!\n",
      "INFO:root:Creating the directory structure for the data 0124930601.\n",
      "INFO:root:Structure completed!\n",
      "INFO:root:All ODFs for 0124930601.tar.gz have been extracted!\n",
      "INFO:root:Creating the directory structure for the data 0158960101.\n",
      "INFO:root:Structure completed!\n",
      "INFO:root:All ODFs for 0158960101.tar.gz have been extracted!\n",
      "INFO:root:Creating the directory structure for the data 0158960901.\n",
      "INFO:root:Structure completed!\n",
      "INFO:root:All ODFs for 0158960901.tar.gz have been extracted!\n",
      "INFO:root:Creating the directory structure for the data 0158961001.\n",
      "INFO:root:Structure completed!\n",
      "INFO:root:All ODFs for 0158961001.tar.gz have been extracted!\n",
      "INFO:root:Creating the directory structure for the data 0158961101.\n",
      "INFO:root:Structure completed!\n",
      "INFO:root:All ODFs for 0158961101.tar.gz have been extracted!\n",
      "INFO:root:Creating the directory structure for the data 0158961301.\n",
      "INFO:root:Structure completed!\n",
      "INFO:root:All ODFs for 0158961301.tar.gz have been extracted!\n",
      "INFO:root:Creating the directory structure for the data 0158961401.\n",
      "INFO:root:Structure completed!\n",
      "INFO:root:All ODFs for 0158961401.tar.gz have been extracted!\n",
      "INFO:root:Creating the directory structure for the data 0411780101.\n",
      "INFO:root:Structure completed!\n",
      "INFO:root:All ODFs for 0411780101.tar.gz have been extracted!\n",
      "INFO:root:Creating the directory structure for the data 0411780201.\n",
      "INFO:root:Structure completed!\n",
      "INFO:root:All ODFs for 0411780201.tar.gz have been extracted!\n",
      "INFO:root:Creating the directory structure for the data 0411780301.\n",
      "INFO:root:Structure completed!\n",
      "INFO:root:All ODFs for 0411780301.tar.gz have been extracted!\n",
      "INFO:root:Creating the directory structure for the data 0411780401.\n",
      "INFO:root:Structure completed!\n",
      "INFO:root:All ODFs for 0411780401.tar.gz have been extracted!\n",
      "INFO:root:Creating the directory structure for the data 0411780501.\n",
      "INFO:root:Structure completed!\n",
      "INFO:root:All ODFs for 0411780501.tar.gz have been extracted!\n",
      "INFO:root:Creating the directory structure for the data 0411780601.\n",
      "INFO:root:Structure completed!\n",
      "INFO:root:All ODFs for 0411780601.tar.gz have been extracted!\n",
      "INFO:root:Creating the directory structure for the data 0411780701.\n",
      "INFO:root:Structure completed!\n",
      "INFO:root:All ODFs for 0411780701.tar.gz have been extracted!\n",
      "INFO:root:Creating the directory structure for the data 0411780801.\n",
      "INFO:root:Structure completed!\n",
      "INFO:root:All ODFs for 0411780801.tar.gz have been extracted!\n",
      "INFO:root:Creating the directory structure for the data 0411781301.\n",
      "INFO:root:Structure completed!\n",
      "INFO:root:All ODFs for 0411781301.tar.gz have been extracted!\n",
      "INFO:root:Creating the directory structure for the data 0411781701.\n",
      "INFO:root:Structure completed!\n",
      "INFO:root:All ODFs for 0411781701.tar.gz have been extracted!\n",
      "INFO:root:Creating the directory structure for the data 0411782101.\n",
      "INFO:root:Structure completed!\n",
      "INFO:root:All ODFs for 0411782101.tar.gz have been extracted!\n",
      "INFO:root:Creating the directory structure for the data 0411780831.\n",
      "INFO:root:Structure completed!\n",
      "INFO:root:All ODFs for 0411780831.tar.gz have been extracted!\n",
      "INFO:root:Creating the directory structure for the data 0411780832.\n",
      "INFO:root:Structure completed!\n",
      "INFO:root:All ODFs for 0411780832.tar.gz have been extracted!\n",
      "INFO:root:Creating the directory structure for the data 0411780833.\n",
      "INFO:root:Structure completed!\n",
      "INFO:root:All ODFs for 0411780833.tar.gz have been extracted!\n",
      "INFO:root:Creating the directory structure for the data 0411780834.\n",
      "INFO:root:Structure completed!\n",
      "INFO:root:All ODFs for 0411780834.tar.gz have been extracted!\n",
      "INFO:root:Creating the directory structure for the data 0727770101.\n",
      "INFO:root:Structure completed!\n",
      "INFO:root:All ODFs for 0727770101.tar.gz have been extracted!\n",
      "INFO:root:Creating the directory structure for the data 0727770501.\n",
      "INFO:root:Structure completed!\n",
      "INFO:root:All ODFs for 0727770501.tar.gz have been extracted!\n",
      "INFO:root:Creating the directory structure for the data 0727771001.\n",
      "INFO:root:Structure completed!\n",
      "INFO:root:All ODFs for 0727771001.tar.gz have been extracted!\n",
      "INFO:root:Creating the directory structure for the data 0727771101.\n",
      "INFO:root:Structure completed!\n",
      "INFO:root:All ODFs for 0727771101.tar.gz have been extracted!\n",
      "INFO:root:Creating the directory structure for the data 0727770901.\n",
      "INFO:root:Structure completed!\n",
      "INFO:root:All ODFs for 0727770901.tar.gz have been extracted!\n",
      "INFO:root:Creating the directory structure for the data 0727771301.\n",
      "INFO:root:Structure completed!\n",
      "INFO:root:All ODFs for 0727771301.tar.gz have been extracted!\n"
     ]
    }
   ],
   "source": [
    "ids_list = ids.tolist()\n",
    "ids_zerofill = []\n",
    "\n",
    "for ObsId in ids_list:\n",
    "    ids_zerofill.append(str(ObsId).zfill(10))\n",
    "\n",
    "#Define the path of the source that will contain all the observations    \n",
    "path_source = os.path.join('/home','luana','Desktop','Magistrale','Thesis', 'PKS2155-304')    #must be modified by user\n",
    "os.chdir(path_source)\n",
    "\n",
    "for ObsId in ids_zerofill:\n",
    "    \n",
    "    if DOWNLOAD_ODFS:\n",
    "        url = f\"http://nxsa.esac.esa.int/nxsa-sl/servlet/data-action-aio?obsno={ObsId}&level=ODF\"\n",
    "        download(url, f\"{ObsId}.tar.gz\")\n",
    "    \n",
    "    make_dir_structure(ObsId)\n",
    "    unpack(f'{ObsId}.tar.gz', os.path.join(ObsId, 'odf'))\n",
    "    \n",
    "    "
   ]
  }
 ],
 "metadata": {
  "kernelspec": {
   "display_name": "Python 3",
   "language": "python",
   "name": "python3"
  },
  "language_info": {
   "codemirror_mode": {
    "name": "ipython",
    "version": 3
   },
   "file_extension": ".py",
   "mimetype": "text/x-python",
   "name": "python",
   "nbconvert_exporter": "python",
   "pygments_lexer": "ipython3",
   "version": "3.6.9"
  }
 },
 "nbformat": 4,
 "nbformat_minor": 4
}
