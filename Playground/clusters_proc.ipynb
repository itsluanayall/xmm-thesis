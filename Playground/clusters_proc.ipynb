{
 "cells": [
  {
   "cell_type": "markdown",
   "metadata": {},
   "source": [
    "# Processing steps for galaxy clusters ARF analysis"
   ]
  },
  {
   "cell_type": "code",
   "execution_count": 1,
   "metadata": {},
   "outputs": [],
   "source": [
    "import os\n",
    "import subprocess\n",
    "import sys\n",
    "import glob\n",
    "import logging\n",
    "\n",
    "import numpy as np\n",
    "\n",
    "from astropy.io import fits\n",
    "from astropy.stats import mad_std"
   ]
  },
  {
   "cell_type": "code",
   "execution_count": 2,
   "metadata": {},
   "outputs": [],
   "source": [
    "def run_command(command,verbose=True):\n",
    "    #\n",
    "    # Execute a shell command with the stdout and stderr being redirected to a log file \n",
    "    #\n",
    "    try:\n",
    "        result = subprocess.run(command, shell=True,stdout=subprocess.PIPE,stderr=subprocess.STDOUT)\n",
    "        retcode=result.returncode\n",
    "        if retcode < 0:\n",
    "            if (verbose):\n",
    "                print(f\"Execution of {command} was terminated by signal\", -retcode, file=sys.stderr)\n",
    "            logging.warning(\"Execution of {} was terminated by signal: {} \\n {}\".format(command,-retcode,result.stdout.decode()))\n",
    "        else:\n",
    "            if (verbose):\n",
    "                print(f\"Execution of {command} returned\", retcode, file=sys.stderr)\n",
    "            logging.info(\"Execution of {} returned {}, \\n {}\".format(command,retcode,result.stdout.decode()))\n",
    "    except OSError as e:\n",
    "        print(f\"Execution of {command} failed:\", e, file=sys.stderr)\n",
    "        logging.error(\"Execution of {} failed: {}\".format(command,e))\n",
    "    return retcode"
   ]
  },
  {
   "cell_type": "markdown",
   "metadata": {},
   "source": [
    "## Setting up XMM-SAS\n",
    "\n",
    "For some reason, running the ipython magic command `!. /home/xcaldata/setsas_161.sh`, does not propagate to the session, i.e. although it prints out that SAS is set up, it is not available after the execution of the shell command. So, I have to do it manually, by setting some environment variables.\n",
    "\n",
    "The last line in the next cell, `!sasversion` should work."
   ]
  },
  {
   "cell_type": "code",
   "execution_count": 1,
   "metadata": {},
   "outputs": [
    {
     "name": "stdout",
     "output_type": "stream",
     "text": [
      "sasversion:- Executing (routine): sasversion  -w 1 -V 4\n",
      "sasversion:- sasversion (sasversion-1.3)  [xmmsas_20180620_1732-17.0.0] started:  2019-11-21T13:20:03.000\n",
      "sasversion:- XMM-Newton SAS release and build information:\n",
      "\n",
      "SAS release: xmmsas_20180620_1732-17.0.0\n",
      "Compiled on: Wed Jun 20 21:01:56 CEST 2018\n",
      "Compiled by: sasbuild@xmac01\n",
      "Platform   : Darwin-16.7.0 64\n",
      "\n",
      "SAS-related environment variables that are set:\n",
      "\n",
      "SAS_DIR = /Users/nalvarez/local/SAS/xmmsas_20180620_1732\n",
      "SAS_PATH = /Users/nalvarez/local/SAS/xmmsas_20180620_1732\n",
      "\n",
      "sasversion:- sasversion (sasversion-1.3)  [xmmsas_20180620_1732-17.0.0] ended:    2019-11-21T13:20:03.000\n"
     ]
    }
   ],
   "source": [
    "#\n",
    "# set up XMM-SAS\n",
    "#\n",
    "# the current one is 18.0 ==> /home/xcaldata/setsas_180.sh\n",
    "# tests with XMM-SAS 16.1 for the arfgen\n",
    "#!. /home/xcaldata/setsas_161.sh\n",
    "#\n",
    "#sas_dir = \"/sas/Linux/RHEL_6.9Workstation/64/sas18_0_0\"\n",
    "#sas_dir = \"/sas/Linux/RHEL_6.9Workstation/64/sas16_1_0\"\n",
    "#os.environ[\"SAS_DIR\"]= sas_dir\n",
    "#os.environ[\"SAS_PATH\"]=os.environ[\"SAS_DIR\"]\n",
    "#os.environ[\"SAS_VERBOSITY\"]=\"4\"\n",
    "#os.environ[\"SAS_SUPPRESS_WARNING\"]=\"1\"\n",
    "#path = os.environ[\"PATH\"]\n",
    "#os.environ[\"PATH\"] = f\"{sas_dir}/bin:{sas_dir}/binextra:{path}\"\n",
    "#ld_path = os.environ[\"LD_LIBRARY_PATH\"]\n",
    "#lib_path = f\"{sas_dir}/lib:{sas_dir}/libextra:{sas_dir}/libsys:{ld_path}\"\n",
    "#os.environ[\"LD_LIBRARY_PATH\"] = lib_path\n",
    "#\n",
    "# check\n",
    "#print (\"PATH = \",os.environ[\"PATH\"])\n",
    "#print (\"LF_LIBRARY_PATH = \",os.environ[\"LD_LIBRARY_PATH\"])\n",
    "#for ikey in os.environ.keys():\n",
    "#    if ('SAS' in ikey):\n",
    "#        print (ikey,\" = \",os.environ[ikey])\n",
    "!sasversion"
   ]
  },
  {
   "cell_type": "markdown",
   "metadata": {},
   "source": [
    "## Processing of a target\n",
    "\n",
    "Next cell sets up the target name, the XMM `OBS_ID` and the different paths. I usually keep the following structure in the `root_dir`:\n",
    "```\n",
    "<target>\n",
    "   <OBS_ID 1>\n",
    "       <proc>\n",
    "   <OBS_ID 2>\n",
    "       <proc>\n",
    "   ...\n",
    "```\n",
    "where in folders `<OBS_ID>` I keep the ODF files and the CCF file. While in `<proc>` I keep the processing products, like event lists, images etc. The spectral extraction regions are also kept in `<proc>` folder.\n",
    "\n",
    "For processing with different versions of SAS or calibration, I use different names for the `<proc>` folders."
   ]
  },
  {
   "cell_type": "code",
   "execution_count": 4,
   "metadata": {},
   "outputs": [
    {
     "name": "stdout",
     "output_type": "stream",
     "text": [
      "Found ODF folder: /lhome/ivaltchanov/XMM-clusters/Coma/0300530101.\n",
      "/lhome/ivaltchanov/XMM-clusters/Coma/0300530101/proc_161 does not exist. Will create it.\n"
     ]
    }
   ],
   "source": [
    "#\n",
    "# set up the paths, the target and the OBS_ID\n",
    "#\n",
    "root_dir = \"/lhome/ivaltchanov/XMM-clusters\"\n",
    "#target=\"A1795\"\n",
    "#obsid=\"0097820101\"\n",
    "#target=\"A2029\"\n",
    "#obsid=\"0551780301\"\n",
    "#target=\"A3571\"\n",
    "#obsid=\"0086950201\"\n",
    "target=\"Coma\"\n",
    "obsid=\"0300530101\"\n",
    "\n",
    "# the output processing will be saved to a folder proc_161\n",
    "pps=\"proc_161\"\n",
    "odf_dir = f\"{ }/{target}/{obsid}\"\n",
    "#\n",
    "if (not os.path.isdir(odf_dir)):\n",
    "    print (f\"{odf_dir} does not exist. Cannot continue.\")\n",
    "    raise FileNotFoundError\n",
    "else:\n",
    "    print (f\"Found ODF folder: {odf_dir}.\")\n",
    "#\n",
    "pps_dir = f\"{root_dir}/{target}/{obsid}/{pps}\"\n",
    "if (not os.path.isdir(pps_dir)):\n",
    "    print (f\"{pps_dir} does not exist. Will create it.\")\n",
    "    os.mkdir(pps_dir)\n",
    "else:\n",
    "    print (f\"Will use {pps_dir} for the products.\")\n",
    "#\n",
    "#\n",
    "# logging to file\n",
    "#\n",
    "logfile_name = f'{pps_dir}/{target}_{obsid}_{pps}.log'\n",
    "logging.basicConfig(level=logging.DEBUG,\n",
    "                    format='%(asctime)s %(levelname)s %(message)s',\n",
    "                    filename=logfile_name,\n",
    "                    filemode='w')\n",
    "#\n",
    "os.environ['SAS_ODF'] = odf_dir\n",
    "os.environ['SAS_CCFPATH'] = '/ccf/pub'"
   ]
  },
  {
   "cell_type": "code",
   "execution_count": 5,
   "metadata": {},
   "outputs": [
    {
     "name": "stdout",
     "output_type": "stream",
     "text": [
      "Found XMM-SAS.\n"
     ]
    },
    {
     "name": "stderr",
     "output_type": "stream",
     "text": [
      "Execution of sasversion returned 0\n"
     ]
    }
   ],
   "source": [
    "#\n",
    "# check for consistency the SAS version\n",
    "#\n",
    "status = run_command('sasversion')\n",
    "if (status != 0):\n",
    "    print ('XMM-SAS is not available. Cannot continue.')\n",
    "    raise Exception\n",
    "else:\n",
    "    print (\"Found XMM-SAS.\")\n",
    "#"
   ]
  },
  {
   "cell_type": "markdown",
   "metadata": {},
   "source": [
    "## Generating the current calibration file\n",
    "\n",
    "Presumably the ODF files for the `target` and `OBS_ID` are already downloaded and avalable in the `odf_dir`.\n",
    "\n",
    "Then we regenerate the current calibration files (CCF) and set the environment `SAS_CCF` to point to this file."
   ]
  },
  {
   "cell_type": "code",
   "execution_count": 6,
   "metadata": {},
   "outputs": [
    {
     "name": "stderr",
     "output_type": "stream",
     "text": [
      "Execution of cifbuild calindexset=/lhome/ivaltchanov/XMM-clusters/Coma/0300530101/proc_161/ccf.cif analysisdate=\"2017-07-20T00:00:00\" returned 0\n"
     ]
    }
   ],
   "source": [
    "# **Step 1:** Assuming the ODF is already available in odf_dir, then run cifbuild\n",
    "os.chdir(odf_dir)\n",
    "#\n",
    "# For tests with XMM-SAS v16.1, set the corretc analysis date\n",
    "#\n",
    "cif_file = f\"{pps_dir}/ccf.cif\"\n",
    "#comm = f\"cifbuild calindexset={cif_file}\"\n",
    "comm = f\"cifbuild calindexset={cif_file} analysisdate=\\\"2017-07-20T00:00:00\\\"\"\n",
    "status = run_command(comm)\n",
    "if (status != 0):\n",
    "    raise Exception\n",
    "#\n",
    "os.environ['SAS_CCF'] = cif_file"
   ]
  },
  {
   "cell_type": "markdown",
   "metadata": {},
   "source": [
    "## Create calibrated event lists\n",
    "\n",
    "I will use the `epproc/emproc` tasks in XMM-SAS"
   ]
  },
  {
   "cell_type": "code",
   "execution_count": 7,
   "metadata": {},
   "outputs": [
    {
     "name": "stdout",
     "output_type": "stream",
     "text": [
      "*** Running emproc\n"
     ]
    },
    {
     "name": "stderr",
     "output_type": "stream",
     "text": [
      "Execution of emproc returned 0\n"
     ]
    }
   ],
   "source": [
    "os.chdir(pps_dir)\n",
    "\n",
    "print (\"*** Running emproc\")\n",
    "command = f'emproc'\n",
    "status = run_command(command)\n",
    "if (status != 0):\n",
    "    print (f\"Command \\\"{command}\\\" failed\")\n",
    "    raise Exception"
   ]
  },
  {
   "cell_type": "code",
   "execution_count": 8,
   "metadata": {},
   "outputs": [
    {
     "name": "stdout",
     "output_type": "stream",
     "text": [
      "*** Running epproc\n"
     ]
    },
    {
     "name": "stderr",
     "output_type": "stream",
     "text": [
      "Execution of epproc returned 0\n"
     ]
    }
   ],
   "source": [
    "print (\"*** Running epproc\")\n",
    "command = f'epproc'\n",
    "status = run_command(command)\n",
    "if (status != 0):\n",
    "    print (f\"Command \\\"{command}\\\" failed\")\n",
    "    raise Exception"
   ]
  },
  {
   "cell_type": "markdown",
   "metadata": {},
   "source": [
    "## Generating lightcurves at high energy\n",
    "\n",
    "Some observations may suffer from periods of high backgrounds. The lightcurves at high energy (10-12 keV) are a good representation of the overall background behaviour during an observation."
   ]
  },
  {
   "cell_type": "code",
   "execution_count": 9,
   "metadata": {},
   "outputs": [
    {
     "name": "stdout",
     "output_type": "stream",
     "text": [
      "Found 3 calibrated event lists\n",
      "Generating lightcurve for 1012_0300530101_EMOS1_S001_ImagingEvts.ds\n"
     ]
    },
    {
     "name": "stderr",
     "output_type": "stream",
     "text": [
      "Execution of evselect table=1012_0300530101_EMOS1_S001_ImagingEvts.ds withrateset=Y rateset=rate_mos1_S001.fits maketimecolumn=Y timebinsize=100 makeratecolumn=Y expression='#XMMEA_EM && (PI>10000) && (PATTERN==0)' returned 0\n"
     ]
    },
    {
     "name": "stdout",
     "output_type": "stream",
     "text": [
      "Generating lightcurve for 1012_0300530101_EMOS2_S002_ImagingEvts.ds\n"
     ]
    },
    {
     "name": "stderr",
     "output_type": "stream",
     "text": [
      "Execution of evselect table=1012_0300530101_EMOS2_S002_ImagingEvts.ds withrateset=Y rateset=rate_mos2_S002.fits maketimecolumn=Y timebinsize=100 makeratecolumn=Y expression='#XMMEA_EM && (PI>10000) && (PATTERN==0)' returned 0\n"
     ]
    },
    {
     "name": "stdout",
     "output_type": "stream",
     "text": [
      "Generating lightcurve for 1012_0300530101_EPN_S003_ImagingEvts.ds\n"
     ]
    },
    {
     "name": "stderr",
     "output_type": "stream",
     "text": [
      "Execution of evselect table=1012_0300530101_EPN_S003_ImagingEvts.ds withrateset=Y rateset=rate_pn_S003.fits maketimecolumn=Y timebinsize=100 makeratecolumn=Y expression=' #XMMEA_EP && (PI>10000&&PI<12000) && (PATTERN==0)' returned 0\n"
     ]
    }
   ],
   "source": [
    "# **Step 2:** Genrerate the lightcurves\n",
    "#\n",
    "evlists = glob.glob(\"*ImagingEvts.ds\")\n",
    "nev = len(evlists)\n",
    "if (nev == 0):\n",
    "    print(f\"No ImagingEvts files found in folder {pps_dir}\")\n",
    "    raise FileNotFoundError\n",
    "else:\n",
    "    print (f\"Found {nev} calibrated event lists\")\n",
    "#\n",
    "for ev in evlists:\n",
    "    iev = os.path.basename(ev)\n",
    "    print (f\"Generating lightcurve for {iev}\")\n",
    "    # the exposure\n",
    "    expo = iev.split('_')[3]\n",
    "    if ('EMOS1' in iev):\n",
    "        rate = f'rate_mos1_{expo}.fits'\n",
    "        expr = '#XMMEA_EM && (PI>10000) && (PATTERN==0)'\n",
    "    elif ('EMOS2' in iev):\n",
    "        rate = f'rate_mos2_{expo}.fits'\n",
    "        expr = '#XMMEA_EM && (PI>10000) && (PATTERN==0)'\n",
    "    elif ('EPN' in iev):\n",
    "        rate = f'rate_pn_{expo}.fits'\n",
    "        expr = ' #XMMEA_EP && (PI>10000&&PI<12000) && (PATTERN==0)'        \n",
    "    #    \n",
    "    command = f'evselect table={iev} withrateset=Y rateset={rate}' + \\\n",
    "    ' maketimecolumn=Y timebinsize=100 makeratecolumn=Y' + \\\n",
    "    f' expression=\\'{expr}\\''\n",
    "    status = run_command(command)\n",
    "    if (status != 0):\n",
    "        print (f\"Command \\\"{command}\\\" failed\")\n",
    "        raise Exception\n",
    "#"
   ]
  },
  {
   "cell_type": "markdown",
   "metadata": {},
   "source": [
    "## Filtering for good time intervals (GTI)\n",
    "\n",
    "Based on the lightcurve count rates, we select the periods where the background is below a certain threshold in counts/s. The suggested default threshold for MOS detectors is 0.35 counts/s, while for pn it's 0.4 counts/s. If the median + 3 times the median absolute deviation of the observed rate is greater than the default values, then this is the new threshold for the filtering.\n",
    "\n",
    "At the end, some diagnostics are printed out, e.g. the fraction of the good-time-interval."
   ]
  },
  {
   "cell_type": "code",
   "execution_count": 10,
   "metadata": {},
   "outputs": [
    {
     "name": "stdout",
     "output_type": "stream",
     "text": [
      "rate_mos1_S001.fits: actual rate limit to use for GTI filtering: 0.35\n",
      "rate_mos2_S002.fits: actual rate limit to use for GTI filtering: 0.35\n",
      "rate_pn_S003.fits: actual rate limit to use for GTI filtering: 0.43\n"
     ]
    },
    {
     "name": "stderr",
     "output_type": "stream",
     "text": [
      "Execution of tabgtigen table=rate_mos1_S001.fits expression=\"RATE<=0.35\" gtiset=gti_mos1_S001.fits returned 0\n",
      "Execution of tabgtigen table=rate_mos2_S002.fits expression=\"RATE<=0.35\" gtiset=gti_mos2_S002.fits returned 0\n"
     ]
    },
    {
     "name": "stdout",
     "output_type": "stream",
     "text": [
      "rate_mos1_S001.fits: filtered GTI 24200.0 from exposure 24988.4, GTI fraction 0.968\n",
      "rate_mos2_S002.fits: filtered GTI 24500.0 from exposure 25006.1, GTI fraction 0.980\n",
      "rate_pn_S003.fits: filtered GTI 19800.0 from exposure 18306.5, GTI fraction 1.082\n",
      "\n"
     ]
    },
    {
     "name": "stderr",
     "output_type": "stream",
     "text": [
      "Execution of tabgtigen table=rate_pn_S003.fits expression=\"RATE<=0.43\" gtiset=gti_pn_S003.fits returned 0\n"
     ]
    }
   ],
   "source": [
    "# **Step 3:** use the rate curves and select the GTI, semi-automatic\n",
    "#\n",
    "t = {}\n",
    "time_min = 1.0e10\n",
    "# get the min time, to be used for relative time\n",
    "output = \"\"\n",
    "for inst in ['mos1','mos2','pn']:\n",
    "    #\n",
    "    ratefiles = glob.glob(f\"rate_{inst}*\")\n",
    "    for j in ratefiles:\n",
    "        rate_hdu = fits.open(j)\n",
    "        t = rate_hdu['RATE'].data\n",
    "        ontime0 = rate_hdu['RATE'].header['EXPOSURE']\n",
    "        #time_min = min(np.min(rate_hdu['RATE'].data['TIME']),time_min)\n",
    "        # find the count-rate limit for filtering\n",
    "        # median + 3*MAD\n",
    "        #\n",
    "        medrate = np.median(t[\"RATE\"])\n",
    "        xmad = mad_std(t['RATE'])\n",
    "        ulimit = medrate + 3*xmad\n",
    "        if ('mos' in inst):\n",
    "            rate_lim = 0.35\n",
    "        else:\n",
    "            rate_lim = 0.4\n",
    "        #\n",
    "        use_limit = max(ulimit,rate_lim)\n",
    "        print(f\"{j}: actual rate limit to use for GTI filtering: {use_limit:.2f}\")\n",
    "        #\n",
    "        gtiset = j.replace(\"rate\",\"gti\")\n",
    "        gti_command = f'tabgtigen table={j} expression=\"RATE<={use_limit:.2f}\" gtiset={gtiset}'\n",
    "        #\n",
    "        status = run_command(gti_command)\n",
    "        if (status != 0):\n",
    "            print (f\"Command {gti_command} failed\")\n",
    "            raise Exception\n",
    "        gti_hdu = fits.open(gtiset)\n",
    "        ontime = gti_hdu[1].header['ONTIME']\n",
    "        fraction = ontime/ontime0\n",
    "        output += f\"{j}: filtered GTI {ontime:.1f} from exposure {ontime0:.1f}, GTI fraction {fraction:.3f}\\n\"\n",
    "#\n",
    "print (output)\n",
    "logging.info(output)"
   ]
  },
  {
   "cell_type": "code",
   "execution_count": 11,
   "metadata": {},
   "outputs": [],
   "source": [
    "# step 3a\n",
    "# plot the lightcurve and the GTI per detector\n",
    "#\n",
    "# TBD"
   ]
  },
  {
   "cell_type": "code",
   "execution_count": 12,
   "metadata": {},
   "outputs": [],
   "source": [
    "# step 3b\n",
    "# if needed, merge the three GTI\n",
    "#\n",
    "# TBD"
   ]
  },
  {
   "cell_type": "markdown",
   "metadata": {},
   "source": [
    "## Create filtered event lists\n",
    "\n",
    "The filtering of the event lists is using the standard flags and either the user provided GTI file or the ones generated during the previous step. The GTI files can be per detector or a merged one."
   ]
  },
  {
   "cell_type": "code",
   "execution_count": 14,
   "metadata": {},
   "outputs": [
    {
     "name": "stdout",
     "output_type": "stream",
     "text": [
      "Filtering mos1 with GTI\n"
     ]
    },
    {
     "name": "stderr",
     "output_type": "stream",
     "text": [
      "Execution of evselect table=1012_0300530101_EMOS1_S001_ImagingEvts.ds withfilteredset=Y filteredset=mos1_evlist_clean.fits destruct=Y keepfilteroutput=T expression='#XMMEA_EM && gti(/lhome/ivaltchanov/XMM-clusters/Coma/Coma_GTI.fits,TIME) && (PI>150)' returned 0\n"
     ]
    },
    {
     "name": "stdout",
     "output_type": "stream",
     "text": [
      "Filtering mos2 with GTI\n"
     ]
    },
    {
     "name": "stderr",
     "output_type": "stream",
     "text": [
      "Execution of evselect table=1012_0300530101_EMOS2_S002_ImagingEvts.ds withfilteredset=Y filteredset=mos2_evlist_clean.fits destruct=Y keepfilteroutput=T expression='#XMMEA_EM && gti(/lhome/ivaltchanov/XMM-clusters/Coma/Coma_GTI.fits,TIME) && (PI>150)' returned 0\n"
     ]
    },
    {
     "name": "stdout",
     "output_type": "stream",
     "text": [
      "Filtering pn with GTI\n"
     ]
    },
    {
     "name": "stderr",
     "output_type": "stream",
     "text": [
      "Execution of evselect table=1012_0300530101_EPN_S003_ImagingEvts.ds withfilteredset=Y filteredset=pn_evlist_clean.fits destruct=Y keepfilteroutput=T expression='#XMMEA_EP && gti(/lhome/ivaltchanov/XMM-clusters/Coma/Coma_GTI.fits,TIME) && (PI>150)' returned 0\n"
     ]
    }
   ],
   "source": [
    "#**Step 4:** Create GTI filtered event lists, using the GTI file\n",
    "#\n",
    "# GTI file from Jukka Nevalainen\n",
    "#gtifile = f\"{root_dir}/{target}/{target}_GTI_0300530101.fits\"\n",
    "gtifile = f\"{root_dir}/{target}/{target}_GTI.fits\"\n",
    "#\n",
    "skip_expo = [\"S011\",\"S012\",\"S013\"]\n",
    "for jl in evlists:\n",
    "    expo = jl.split('_')[3]\n",
    "    if (expo in skip_expo):\n",
    "        print (f\"Skip exposure {expo}\")\n",
    "        logging.warning (f\"Skip exposure {expo}\")\n",
    "        continue\n",
    "    if ('_EMOS1' in jl):\n",
    "        if (gtifile == None):\n",
    "            expr = f\"#XMMEA_EM && gti(gti_mos1_{expo}.fits,TIME) && (PI>150)\"\n",
    "        else:\n",
    "            expr = f\"#XMMEA_EM && gti({gtifile},TIME) && (PI>150)\"\n",
    "        inst = 'mos1'\n",
    "    elif ('_EMOS2' in jl):\n",
    "        if (gtifile == None):\n",
    "            expr = f\"#XMMEA_EM && gti(gti_mos2_{expo}.fits,TIME) && (PI>150)\"\n",
    "        else:\n",
    "            expr = f\"#XMMEA_EM && gti({gtifile},TIME) && (PI>150)\"\n",
    "        inst = 'mos2'\n",
    "    elif ('_EPN' in jl):\n",
    "        if (gtifile == None):\n",
    "            expr = f\"#XMMEA_EP && gti(gti_pn_{expo}.fits,TIME) && (PI>150)\"\n",
    "        else:\n",
    "            expr = f\"#XMMEA_EP && gti({gtifile},TIME) && (PI>150)\"\n",
    "        inst = 'pn'\n",
    "    else:\n",
    "        raise Exception(f'Cannot identify the instrument in {jl}')\n",
    "    #\n",
    "    ev_command = f'evselect table={jl} withfilteredset=Y filteredset={inst}_evlist_clean.fits' +  \\\n",
    "        f' destruct=Y keepfilteroutput=T expression=\\'{expr}\\''\n",
    "    #\n",
    "    print (f\"Filtering {inst} with GTI\")\n",
    "    status = run_command(ev_command)\n",
    "    if (status != 0):\n",
    "        print (f\"Command \\\"{ev_command}\\\" failed.\")\n",
    "        raise Exception\n",
    "#"
   ]
  },
  {
   "cell_type": "markdown",
   "metadata": {},
   "source": [
    "## Generating images\n",
    "\n",
    "Once we have the clean event lists we can use them to generate images in user-provided energy ranges. There is a large flexibility in the choices for the event selection (patterns, flags etc) and the output image properties, e.g. the pixel size. "
   ]
  },
  {
   "cell_type": "code",
   "execution_count": 15,
   "metadata": {},
   "outputs": [
    {
     "name": "stdout",
     "output_type": "stream",
     "text": [
      "*** Generating images in band [500,7000] eV\n"
     ]
    },
    {
     "name": "stderr",
     "output_type": "stream",
     "text": [
      "Execution of evselect table=mos1_evlist_clean.fits xcolumn=X ycolumn=Y imagebinning=binSize ximagebinsize=80 yimagebinsize=80 expression='PI in [500:7000] &&  #XMMEA_EM && PATTERN in [0:12]' withimageset=true imageset=mos1_image_500_7000.fits returned 0\n",
      "Execution of evselect table=mos2_evlist_clean.fits xcolumn=X ycolumn=Y imagebinning=binSize ximagebinsize=80 yimagebinsize=80 expression='PI in [500:7000] &&  #XMMEA_EM && PATTERN in [0:12]' withimageset=true imageset=mos2_image_500_7000.fits returned 0\n",
      "Execution of evselect table=pn_evlist_clean.fits xcolumn=X ycolumn=Y imagebinning=binSize ximagebinsize=80 yimagebinsize=80 expression='PI in [500:7000] &&  FLAG==0 && PATTERN in [0:4]' withimageset=true imageset=pn_image_500_7000.fits returned 0\n"
     ]
    }
   ],
   "source": [
    "#**Step 5:** Generate images in user-selected energy range\n",
    "pi0 = 500\n",
    "pi1 = 7000\n",
    "# image binning, 80 means 4\" pixel\n",
    "bin_size = 80\n",
    "#\n",
    "print (f\"*** Generating images in band [{pi0},{pi1}] eV\")\n",
    "for inst in ['mos1','mos2','pn']:\n",
    "    evlist = f'{inst}_evlist_clean.fits'\n",
    "    if (not os.path.isfile(evlist)):\n",
    "        print(f\"Cannot find cleaned event lists for {inst}. Image will not be generated.\")\n",
    "        continue\n",
    "    image_name = f'{inst}_image_{pi0}_{pi1}.fits'\n",
    "    #\n",
    "    if ('mos' in inst):\n",
    "        expr = f'PI in [{pi0}:{pi1}] &&  #XMMEA_EM && PATTERN in [0:12]'\n",
    "    else:\n",
    "        expr = f'PI in [{pi0}:{pi1}] &&  FLAG==0 && PATTERN in [0:4]'\n",
    "    #    \n",
    "    ev_command = f'evselect table={evlist} xcolumn=X ycolumn=Y imagebinning=binSize' +  \\\n",
    "         f' ximagebinsize={bin_size} yimagebinsize={bin_size}' + \\\n",
    "         f' expression=\\'{expr}\\'' +  \\\n",
    "         f' withimageset=true imageset={image_name}'\n",
    "    status = run_command(ev_command)\n",
    "    if (status != 0):\n",
    "        raise Exception"
   ]
  },
  {
   "cell_type": "code",
   "execution_count": 16,
   "metadata": {},
   "outputs": [],
   "source": [
    "# step 5a\n",
    "# Display the images\n",
    "#\n",
    "# TBD"
   ]
  },
  {
   "cell_type": "markdown",
   "metadata": {},
   "source": [
    "## Generate exposure maps, count-rate and detector mask images(optional)\n",
    "\n",
    "This step is optional but it is needed in some cases, e.g. for combining MOS and pn images into a merged one you need the count-rate image."
   ]
  },
  {
   "cell_type": "code",
   "execution_count": 17,
   "metadata": {},
   "outputs": [
    {
     "name": "stdout",
     "output_type": "stream",
     "text": [
      "*** Generating exposure maps\n"
     ]
    },
    {
     "name": "stderr",
     "output_type": "stream",
     "text": [
      "Execution of eexpmap imageset=mos1_image_500_7000.fits attitudeset=1012_0300530101_AttHk.ds eventset=mos1_evlist_clean.fits expimageset=mos1_expimage_500_7000.fits pimin=500 pimax=7000 returned 0\n",
      "Execution of emask expimageset=mos1_expimage_500_7000.fits detmaskset=mos1_detmask_500_7000.fits threshold1=0.3 threshold2=0.5 returned 0\n",
      "Execution of eexpmap imageset=mos2_image_500_7000.fits attitudeset=1012_0300530101_AttHk.ds eventset=mos2_evlist_clean.fits expimageset=mos2_expimage_500_7000.fits pimin=500 pimax=7000 returned 0\n",
      "Execution of emask expimageset=mos2_expimage_500_7000.fits detmaskset=mos2_detmask_500_7000.fits threshold1=0.3 threshold2=0.5 returned 0\n",
      "Execution of eexpmap imageset=pn_image_500_7000.fits attitudeset=1012_0300530101_AttHk.ds eventset=pn_evlist_clean.fits expimageset=pn_expimage_500_7000.fits pimin=500 pimax=7000 returned 0\n",
      "Execution of emask expimageset=pn_expimage_500_7000.fits detmaskset=pn_detmask_500_7000.fits threshold1=0.3 threshold2=0.5 returned 0\n"
     ]
    }
   ],
   "source": [
    "# step 5b\n",
    "# generate the exposure image and the detector mask\n",
    "#\n",
    "do_detmask = True\n",
    "do_crimage = True\n",
    "print (\"*** Generating exposure maps\")\n",
    "#\n",
    "# need the attitude file\n",
    "atthk = glob.glob(\"*_AttHk.ds\")\n",
    "if (not os.path.isfile(atthk[0])):\n",
    "    print(\"Cannot find Attitude HK file, cannot continue.\")\n",
    "    raise FileNotFoundError\n",
    "#\n",
    "for inst in ['mos1','mos2','pn']:\n",
    "    evlist = f'{inst}_evlist_clean.fits'\n",
    "    image_name = f'{inst}_image_{pi0}_{pi1}.fits'\n",
    "    if (not os.path.isfile(image_name)):\n",
    "        print(\"Cannot find image {image_name}, cannot produce exposure image and detector mask.\")\n",
    "        continue\n",
    "    #\n",
    "    expfile = f\"{inst}_expimage_{pi0}_{pi1}.fits\"\n",
    "    xcommand = f'eexpmap imageset={image_name} attitudeset={atthk[0]}' + \\\n",
    "    f' eventset={evlist} expimageset={expfile} pimin={pi0} pimax={pi1}'\n",
    "    status = run_command(xcommand)\n",
    "    if (status != 0):\n",
    "        raise Exception\n",
    "    #\n",
    "    # now the detector map\n",
    "    #\n",
    "    if (do_detmask):\n",
    "        detfile = f\"{inst}_detmask_{pi0}_{pi1}.fits\"\n",
    "        xcommand = f'emask expimageset={expfile} detmaskset={detfile}' + \\\n",
    "        ' threshold1=0.3 threshold2=0.5'\n",
    "        status = run_command(xcommand)\n",
    "        if (status != 0):\n",
    "            raise Exception\n",
    "    #\n",
    "    # now the count-rate image\n",
    "    #\n",
    "    if (do_crimage):\n",
    "        crfile = f\"{inst}_crimage_{pi0}_{pi1}.fits\"\n",
    "        hdu0 = fits.open(image_name)\n",
    "        hdu1 = fits.open(expfile)\n",
    "        # avoid division by zero \n",
    "        crdata = np.divide(hdu0[0].data,hdu1[0].data,where=(hdu1[0].data > 0.0))\n",
    "        # the count-rate image will have the same header as the original image\n",
    "        hdu0[0].data = crdata\n",
    "        hdu0.writeto(crfile)\n",
    "        hdu1.close()\n",
    "        hdu0.close()\n",
    "#"
   ]
  },
  {
   "cell_type": "markdown",
   "metadata": {},
   "source": [
    "## Instrument specific part, only processing EPIC-pn\n",
    "\n",
    "### Source spectrum extraction\n"
   ]
  },
  {
   "cell_type": "code",
   "execution_count": 18,
   "metadata": {},
   "outputs": [
    {
     "name": "stdout",
     "output_type": "stream",
     "text": [
      "circle(25114.4,26251.8,4800)\n"
     ]
    },
    {
     "name": "stderr",
     "output_type": "stream",
     "text": [
      "Execution of evselect table=pn_evlist_clean.fits withspectrumset=yes spectrumset=Coma_0300530101_pn_spectrum_src.fits energycolumn=PI spectralbinsize=5 withspecranges=yes specchannelmin=0 specchannelmax=20479 expression='(FLAG==0) && (PATTERN<=4) && ((X,Y) IN circle(25114.4,26251.8,4800))' returned 0\n"
     ]
    },
    {
     "name": "stdout",
     "output_type": "stream",
     "text": [
      "*** Backscale the source spectrum\n"
     ]
    },
    {
     "name": "stderr",
     "output_type": "stream",
     "text": [
      "Execution of backscale spectrumset=Coma_0300530101_pn_spectrum_src.fits badpixlocation=pn_evlist_clean.fits returned 0\n"
     ]
    }
   ],
   "source": [
    "#**Step 6:** Generate a spectrum from a user provided region file. This also runs `backscale` on the source spectrum.\n",
    "#\n",
    "# this is per instrument and we only process PN at this stage.\n",
    "#\n",
    "inst = \"pn\"\n",
    "regfile = f\"{pps_dir}/../../{target}_{obsid}_region.reg\"\n",
    "if (not os.path.isfile(regfile)):\n",
    "    print (f\"Cannot find region file {regfile}. Cannot continue.\")\n",
    "    logging.error (f\"Cannot find region file {regfile}. Cannot continue.\")\n",
    "    raise FileNotFoundError\n",
    "#\n",
    "with open(regfile) as reg:\n",
    "    reg_line = reg.readline()\n",
    "src_reg = reg_line.strip().split()[0]\n",
    "#\n",
    "print (src_reg)\n",
    "#\n",
    "evlist = f'{inst}_evlist_clean.fits'\n",
    "spec_name = f'{target}_{obsid}_{inst}_spectrum_src.fits'\n",
    "#\n",
    "if ('pn' in inst):\n",
    "    spec_chan_max = 20479\n",
    "    expr1 = \"(FLAG==0) && (PATTERN<=4)\"\n",
    "else:\n",
    "    spec_chan_max = 11999\n",
    "    expr1 = \"#XMMEA_EM && (PATTERN<=12)\"\n",
    "#\n",
    "ev_command = f\"evselect table={evlist} withspectrumset=yes spectrumset={spec_name}\" +  \\\n",
    "f\" energycolumn=PI spectralbinsize=5 withspecranges=yes specchannelmin=0 specchannelmax={spec_chan_max}\" +  \\\n",
    "f\" expression='{expr1} && ((X,Y) IN {src_reg})'\"\n",
    "status = run_command(ev_command)\n",
    "if (status != 0):\n",
    "    raise Exception\n",
    "#\n",
    "# Now backscale the source spectrum\n",
    "#\n",
    "print (\"*** Backscale the source spectrum\")\n",
    "xcommand = f\"backscale spectrumset={spec_name} badpixlocation={evlist}\"\n",
    "status = run_command(xcommand)\n",
    "if (status != 0):\n",
    "    raise Exception"
   ]
  },
  {
   "cell_type": "markdown",
   "metadata": {},
   "source": [
    "### Background spectrum extraction (optional)"
   ]
  },
  {
   "cell_type": "code",
   "execution_count": null,
   "metadata": {},
   "outputs": [],
   "source": [
    "#**Step 6b:** Generate the background spectrum from a user provided region file. This also runs `backscale` on the source spectrum.\n",
    "#\n",
    "# this is per instrument and we only process PN at this stage.\n",
    "#\n",
    "inst = \"pn\"\n",
    "regfile = f\"{pps_dir}/{target}_{obsid}_bkg_region.reg\"\n",
    "with open(regfile,'r') as reg:\n",
    "    reg_line = reg.readline()\n",
    "src_reg = reg_line.strip().split()[0]\n",
    "#\n",
    "print (src_reg)\n",
    "#\n",
    "evlist = f'{inst}_evlist_clean.fits'\n",
    "spec_name = f'{target}_{obsid}_{inst}_spectrum_bkg.fits'\n",
    "#\n",
    "if ('pn' in inst):\n",
    "    spec_chan_max = 20479\n",
    "    expr1 = \"(FLAG==0) && (PATTERN<=4)\"\n",
    "else:\n",
    "    spec_chan_max = 11999\n",
    "    expr1 = \"#XMMEA_EM && (PATTERN<=12)\"\n",
    "#\n",
    "ev_command = f\"evselect table={evlist} withspectrumset=yes spectrumset={spec_name}\" +  \\\n",
    "f\" energycolumn=PI spectralbinsize=5 withspecranges=yes specchannelmin=0 specchannelmax={spec_chan_max}\" +  \\\n",
    "f\" expression='{expr1} && ((X,Y) IN {src_reg})'\"\n",
    "status = run_command(ev_command)\n",
    "if (status != 0):\n",
    "    raise Exception\n",
    "#\n",
    "# Now backscale the source spectrum\n",
    "#\n",
    "print (\"*** Backscale the source spectrum\")\n",
    "xcommand = f\"backscale spectrumset={spec_name} badpixlocation={evlist}\"\n",
    "status = run_command(xcommand)\n",
    "if (status != 0):\n",
    "    raise Exception"
   ]
  },
  {
   "cell_type": "markdown",
   "metadata": {},
   "source": [
    "### Generate the RMF for the source spectrum"
   ]
  },
  {
   "cell_type": "code",
   "execution_count": 19,
   "metadata": {},
   "outputs": [
    {
     "name": "stdout",
     "output_type": "stream",
     "text": [
      "*** Running rmfgen spectrumset=Coma_0300530101_pn_spectrum_src.fits rmfset=Coma_0300530101_pn_spectrum_src.rmf\n"
     ]
    },
    {
     "name": "stderr",
     "output_type": "stream",
     "text": [
      "Execution of rmfgen spectrumset=Coma_0300530101_pn_spectrum_src.fits rmfset=Coma_0300530101_pn_spectrum_src.rmf returned 0\n"
     ]
    }
   ],
   "source": [
    "#**Step 7:** Generate an RMF file for the source spectrum\n",
    "evlist = f'{inst}_evlist_clean.fits'\n",
    "if (not os.path.isfile(evlist)):\n",
    "    print(\"Cannot find cleaned event lists\")\n",
    "    raise FileNotFoundError\n",
    "spec_name = f'{target}_{obsid}_{inst}_spectrum_src.fits'\n",
    "if (not os.path.isfile(spec_name)):\n",
    "    print (f\"Cannot find source spectrum {spec_name}\")\n",
    "    raise FileNotFoundError\n",
    "#\n",
    "rmfset = f'{target}_{obsid}_{inst}_spectrum_src.rmf'\n",
    "#\n",
    "xcommand = f\"rmfgen spectrumset={spec_name} rmfset={rmfset}\"\n",
    "print (f\"*** Running {xcommand}\")\n",
    "status = run_command(xcommand)\n",
    "if (status != 0):\n",
    "    raise Exception"
   ]
  },
  {
   "cell_type": "markdown",
   "metadata": {},
   "source": [
    "### Generate the ARF for the source extraction region\n",
    "\n",
    "There wil be two calls to `arfgen`: one with the currently best way to get the ARF for extended source, using `badpixmaptype=dataset detmaptype=dataset` where the dataset is the MOS1 count-rate image (i.e. no vignetting).\n",
    "\n",
    "The other call is with no bad pixel correction and flat detector map. The output ARF in ths case will have `test0` in the name."
   ]
  },
  {
   "cell_type": "code",
   "execution_count": 20,
   "metadata": {},
   "outputs": [
    {
     "name": "stdout",
     "output_type": "stream",
     "text": [
      "*** Running arfgen spectrumset=Coma_0300530101_pn_spectrum_src.fits arfset=Coma_0300530101_pn_spectrum_src.arf withrmfset=yes rmfset=Coma_0300530101_pn_spectrum_src.rmf badpixlocation=pn_evlist_clean.fits detmaptype=flat extendedsource=yes\n"
     ]
    },
    {
     "name": "stderr",
     "output_type": "stream",
     "text": [
      "Execution of arfgen spectrumset=Coma_0300530101_pn_spectrum_src.fits arfset=Coma_0300530101_pn_spectrum_src.arf withrmfset=yes rmfset=Coma_0300530101_pn_spectrum_src.rmf badpixlocation=pn_evlist_clean.fits detmaptype=flat extendedsource=yes returned 0\n"
     ]
    }
   ],
   "source": [
    "#**Step 8:** Generate the ARF\n",
    "arfset = f'{target}_{obsid}_{inst}_spectrum_src.arf'\n",
    "# flat detector map (not good for extended sources), for SAS before 17 yo uhave to use this\n",
    "xcommand = f\"arfgen spectrumset={spec_name} arfset={arfset} withrmfset=yes rmfset={rmfset}\" + \\\n",
    "    f\" badpixlocation={evlist} detmaptype=flat extendedsource=yes\"\n",
    "#\n",
    "# MOS1 detector map (better for extended sources)\n",
    "#mos1file = \"mos1_crimage_500_7000.fits\"\n",
    "# better to have the MOS1 count-rate image, so that the vignetting is not applied twice!\n",
    "#\n",
    "#xcommand = f\"arfgen spectrumset={spec_name} arfset={arfset} withrmfset=yes rmfset={rmfset}\" + \\\n",
    "#    f\"  withbadpixcorr=yes badpixlocation={evlist} badpixmaptype=dataset detmaptype=dataset detmaparray={mos1file} extendedsource=yes\"\n",
    "print (f\"*** Running {xcommand}\")\n",
    "status = run_command(xcommand)\n",
    "if (status != 0):\n",
    "    raise Exception"
   ]
  },
  {
   "cell_type": "code",
   "execution_count": null,
   "metadata": {},
   "outputs": [],
   "source": [
    "# now the ARF with bad pixel correction and flat det\n",
    "arfset = f'{target}_{obsid}_{inst}_test1.arf'\n",
    "xcommand = f\"arfgen spectrumset={spec_name} arfset={arfset} withrmfset=yes rmfset={rmfset}\" + \\\n",
    "    f\"  withbadpixcorr=yes extendedsource=yes\"\n",
    "print (f\"*** Running {xcommand}\")\n",
    "status = run_command(xcommand)\n",
    "if (status != 0):\n",
    "    raise Exception"
   ]
  },
  {
   "cell_type": "code",
   "execution_count": null,
   "metadata": {},
   "outputs": [],
   "source": [
    "# now the ARF with no bad pixel correction\n",
    "arfset = f'{target}_{obsid}_{inst}_test0.arf'\n",
    "xcommand = f\"arfgen spectrumset={spec_name} arfset={arfset} withrmfset=yes rmfset={rmfset}\" + \\\n",
    "    f\"  withbadpixcorr=no extendedsource=yes\"\n",
    "print (f\"*** Running {xcommand}\")\n",
    "status = run_command(xcommand)\n",
    "if (status != 0):\n",
    "    raise Exception"
   ]
  },
  {
   "cell_type": "code",
   "execution_count": null,
   "metadata": {},
   "outputs": [],
   "source": [
    "# now the ARF with badpixel correction using a symtetic cluster image (generated with simulate_xmm_clusters)\n",
    "#\n",
    "arfset = f'{target}_{obsid}_{inst}_test2.arf'\n",
    "simimage = 'pn_image_500_7000_sim_nodet.fits'\n",
    "if (not os.path.isfile(simimage)):\n",
    "    print (f\"No detmaparray file {simimage} found. Please correct it.\")\n",
    "    logging.error(f\"No detmaparray file {simimage} found. Please correct it.\")\n",
    "    raise FileNotFoundError\n",
    "xcommand = f\"arfgen spectrumset={spec_name} arfset={arfset} withrmfset=yes rmfset={rmfset}\" + \\\n",
    "    f\"  withbadpixcorr=yes badpixlocation={evlist} badpixmaptype=dataset detmaptype=dataset detmaparray={simimage} extendedsource=yes\"\n",
    "print (f\"*** Running {xcommand}\")\n",
    "status = run_command(xcommand)\n",
    "if (status != 0):\n",
    "    raise Exception"
   ]
  },
  {
   "cell_type": "code",
   "execution_count": null,
   "metadata": {},
   "outputs": [],
   "source": [
    "#\n",
    "# do the 3 ratios of the ARFs\n",
    "#\n",
    "# 0 is baseline with no badpixcorr\n",
    "arf0 = fits.open(f'{target}_{obsid}_{inst}_test0.arf') \n",
    "# 1 is with MOS1 count-rate image\n",
    "arf1 = fits.open(f'{target}_{obsid}_{inst}_spectrum_src.arf')\n",
    "#arf1 = fits.open(f'{target}_{obsid}_{inst}_test1.arf')\n",
    "# 2 is with syntetic image\n",
    "#arf2 = fits.open(f'{target}_{obsid}_{inst}_test2.arf')\n",
    "#\n",
    "x0 = arf0['SPECRESP'].data[\"ENERG_LO\"]\n",
    "ix = np.where((x0 >= 0.5) & (x0 <= 2.0))[0]\n",
    "#\n",
    "y0 = arf0['SPECRESP'].data[\"SPECRESP\"]\n",
    "y1 = arf1['SPECRESP'].data[\"SPECRESP\"]\n",
    "#y2 = arf2['SPECRESP'].data[\"SPECRESP\"]\n",
    "#\n",
    "ratio10 = y1/y0\n",
    "ratio20 = y2/y0\n",
    "print (f\"{target}: Mean ratio 1/0 (MOS1CR): {np.mean(ratio10[ix]):.3f}, 2/0 (synthetic): {np.mean(ratio20[ix]):.3f}\")\n",
    "logging.info (f\"{target}: Mean ratio 1/0 (MOS1CR): {np.mean(ratio10[ix]):.3f}, 2/0 (synthetic): {np.mean(ratio20[ix]):.3f}\")\n",
    "#\n",
    "# parse the logfile for the geometric area in bad pixels:\n",
    "with open(f'{pps_dir}/{target}_{obsid}_{pps}.log','r') as xlog:\n",
    "    lines = xlog.readlines()\n",
    "for iline in lines:\n",
    "    if (\"chip gap fraction:\" in iline):\n",
    "        print (iline)"
   ]
  },
  {
   "cell_type": "code",
   "execution_count": null,
   "metadata": {},
   "outputs": [],
   "source": [
    "print (\"*** All done.\")\n",
    "logging.info (\"*** All done.\")"
   ]
  },
  {
   "cell_type": "code",
   "execution_count": null,
   "metadata": {},
   "outputs": [],
   "source": [
    "1-np.mean(ratio10[ix])"
   ]
  },
  {
   "cell_type": "code",
   "execution_count": null,
   "metadata": {},
   "outputs": [],
   "source": []
  }
 ],
 "metadata": {
  "kernelspec": {
   "display_name": "Python 3",
   "language": "python",
   "name": "python3"
  },
  "language_info": {
   "codemirror_mode": {
    "name": "ipython",
    "version": 3
   },
   "file_extension": ".py",
   "mimetype": "text/x-python",
   "name": "python",
   "nbconvert_exporter": "python",
   "pygments_lexer": "ipython3",
   "version": "3.6.6"
  }
 },
 "nbformat": 4,
 "nbformat_minor": 4
}
